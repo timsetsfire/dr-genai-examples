{
 "cells": [
  {
   "cell_type": "code",
   "execution_count": 3,
   "metadata": {},
   "outputs": [],
   "source": [
    "# !pip install datarobot"
   ]
  },
  {
   "cell_type": "markdown",
   "metadata": {},
   "source": [
    "## Taking an LLM \"into\" DataRobot\n",
    "\n",
    "### prequisites\n",
    "\n",
    "This example relies on Gpt4o, so the requirement is that you have access to Gpt4o.  This example shows \n",
    "\n",
    "* the use of Azure OpenAI endpoint that is serving Gpt4o for the purposes of inference.  \n",
    "\n",
    "In order to utilize required credentials,[DataRobot credential manager](https://docs.datarobot.com/en/docs/data/connect-data/stored-creds.html#credentials-management) is being used to keep the Api token.  \n"
   ]
  },
  {
   "cell_type": "code",
   "execution_count": null,
   "metadata": {},
   "outputs": [],
   "source": [
    "import pandas as pd \n",
    "from custom import *\n",
    "data = pd.DataFrame([\n",
    "    dict(promptText = \"tell me a joke\"),\n",
    "    dict(promptText = \"what's up doc?  can we rock\"),\n",
    "    dict(promptText = \"describe bolzano weierstrauss theorem\"),\n",
    "    ])\n",
    "data.to_csv(\"test_data.csv\")"
   ]
  },
  {
   "cell_type": "code",
   "execution_count": null,
   "metadata": {},
   "outputs": [
    {
     "data": {
      "text/html": [
       "<div>\n",
       "<style scoped>\n",
       "    .dataframe tbody tr th:only-of-type {\n",
       "        vertical-align: middle;\n",
       "    }\n",
       "\n",
       "    .dataframe tbody tr th {\n",
       "        vertical-align: top;\n",
       "    }\n",
       "\n",
       "    .dataframe thead th {\n",
       "        text-align: right;\n",
       "    }\n",
       "</style>\n",
       "<table border=\"1\" class=\"dataframe\">\n",
       "  <thead>\n",
       "    <tr style=\"text-align: right;\">\n",
       "      <th></th>\n",
       "      <th>resultText</th>\n",
       "    </tr>\n",
       "  </thead>\n",
       "  <tbody>\n",
       "    <tr>\n",
       "      <th>0</th>\n",
       "      <td>Sure, here's a joke for you:\\n\\nWhy don't skel...</td>\n",
       "    </tr>\n",
       "    <tr>\n",
       "      <th>1</th>\n",
       "      <td>It sounds like you're referencing the classic ...</td>\n",
       "    </tr>\n",
       "    <tr>\n",
       "      <th>2</th>\n",
       "      <td>The Bolzano-Weierstrass theorem is a fundament...</td>\n",
       "    </tr>\n",
       "  </tbody>\n",
       "</table>\n",
       "</div>"
      ],
      "text/plain": [
       "                                          resultText\n",
       "0  Sure, here's a joke for you:\\n\\nWhy don't skel...\n",
       "1  It sounds like you're referencing the classic ...\n",
       "2  The Bolzano-Weierstrass theorem is a fundament..."
      ]
     },
     "execution_count": 10,
     "metadata": {},
     "output_type": "execute_result"
    }
   ],
   "source": [
    "!pip install datarobot-drum \n",
    "!export TARGET_NAME=resultText && drum score --code-dir ./model --target-type textgeneration --runtime-params runtime_params.yaml --input test_data.csv"
   ]
  },
  {
   "cell_type": "markdown",
   "metadata": {},
   "source": [
    "## Take this into datarobot"
   ]
  },
  {
   "cell_type": "markdown",
   "metadata": {},
   "source": [
    "Pick the appropriate datarobot custom model environment"
   ]
  },
  {
   "cell_type": "code",
   "execution_count": 1,
   "metadata": {},
   "outputs": [
    {
     "data": {
      "text/plain": [
       "ExecutionEnvironment('[DataRobot] Python 3.11 GenAI')"
      ]
     },
     "execution_count": 1,
     "metadata": {},
     "output_type": "execute_result"
    }
   ],
   "source": [
    "import datarobot as dr\n",
    "environment = [env for env in dr.ExecutionEnvironment.list() if env.name == \"[DataRobot] Python 3.11 GenAI\"].pop()\n",
    "environment\n"
   ]
  },
  {
   "cell_type": "markdown",
   "metadata": {},
   "source": [
    "Create the list of required runtime parameters (see `model-metadata.yaml` for details)\n",
    "What follows is a list of credentials already being managed by DataRobot.  "
   ]
  },
  {
   "cell_type": "code",
   "execution_count": 2,
   "metadata": {},
   "outputs": [
    {
     "data": {
      "text/plain": [
       "[Credential('662811a051f136d67f7997bd', 'DR_OPENAI_API_KEY', 'api_token'),\n",
       " Credential('676332535bccdbe998577038', 'Langchain API Key', 'api_token')]"
      ]
     },
     "execution_count": 2,
     "metadata": {},
     "output_type": "execute_result"
    }
   ],
   "source": [
    "credentials = [c for c in dr.Credential.list() if c.name in  [\"DR_OPENAI_API_KEY\", \"Langchain API Key\"]]\n",
    "credentials"
   ]
  },
  {
   "cell_type": "markdown",
   "metadata": {},
   "source": [
    "We'll grab the credential ids from the credential list above and set up the run time parameters"
   ]
  },
  {
   "cell_type": "code",
   "execution_count": 3,
   "metadata": {},
   "outputs": [],
   "source": [
    "runtime_parameter_values = [\n",
    "    dr.models.runtime_parameters.RuntimeParameterValue(field_name = \"AZURE_OPENAI_API_KEY\", type = \"credential\", value = \"662811a051f136d67f7997bd\"),\n",
    "    dr.models.runtime_parameters.RuntimeParameterValue(field_name = \"LANGCHAIN_API_KEY\", type = \"credential\", value = \"676332535bccdbe998577038\"),\n",
    "    ]"
   ]
  },
  {
   "cell_type": "markdown",
   "metadata": {},
   "source": [
    "Create the custom model in the custom model workshop"
   ]
  },
  {
   "cell_type": "code",
   "execution_count": 4,
   "metadata": {},
   "outputs": [],
   "source": [
    "cim = dr.CustomInferenceModel.create(name = \"Langchain Traced Gpt4o\", \n",
    "                                    target_type = dr.enums.TARGET_TYPE.TEXT_GENERATION, \n",
    "                                    target_name = \"resultText\", \n",
    "                                    network_egress_policy=dr.enums.NETWORK_EGRESS_POLICY.PUBLIC)\n"
   ]
  },
  {
   "cell_type": "markdown",
   "metadata": {},
   "source": [
    "add a version with all necessary assets"
   ]
  },
  {
   "cell_type": "code",
   "execution_count": 6,
   "metadata": {},
   "outputs": [],
   "source": [
    "cimv = dr.CustomModelVersion.create_clean(custom_model_id = cim.id, \n",
    "                                          base_environment_id = environment.id, \n",
    "                                          runtime_parameter_values = runtime_parameter_values,                                        \n",
    "                                          files = [(\"custom.py\", \"custom.py\"),\n",
    "                                                   (\"model-metadata.yaml\", \"model-metadata.yaml\"),\n",
    "                                                   (\"requirements.txt\", \"requirements.txt\")])\n",
    "## or \n",
    "# cim = dr.CustomInferenceModel.get(\"67350386bab555bb07182a07\")\n",
    "# cimv = dr.CustomModelVersion.create_from_previous(custom_model_id = cim.id, \n",
    "#                                                    base_environment_id = environment.id,\n",
    "#                                                   files = [(\"custom.py\", \"custom.py\"),\n",
    "#                                                    (\"model-metadata.yaml\", \"model-metadata.yaml\"),\n",
    "#                                                    (\"requirements.txt\", \"requirements.txt\")])\n",
    "                                        "
   ]
  },
  {
   "cell_type": "markdown",
   "metadata": {},
   "source": [
    "build the custom model environment (since there was a `requirements.txt` present).  This could take some time"
   ]
  },
  {
   "cell_type": "code",
   "execution_count": 7,
   "metadata": {},
   "outputs": [],
   "source": [
    "build = dr.CustomModelVersionDependencyBuild.start_build(cim.id, cimv.id, max_wait = 1200)"
   ]
  },
  {
   "cell_type": "markdown",
   "metadata": {},
   "source": [
    "Register your test dataset"
   ]
  },
  {
   "cell_type": "code",
   "execution_count": 9,
   "metadata": {},
   "outputs": [],
   "source": [
    "llm_dataset_test = dr.Dataset.create_from_in_memory_data(data_frame = data)\n",
    "## or \n",
    "# llm_dataset_test = dr.Dataset.get(\"<dataset-id>\")"
   ]
  },
  {
   "cell_type": "markdown",
   "metadata": {},
   "source": [
    "Test the LLM proxy in DataRobot.  This could take some time.  \n",
    "\n",
    "You should be able to pull up langsmith and check tracing depending on how you set the runtime parameters"
   ]
  },
  {
   "cell_type": "code",
   "execution_count": 10,
   "metadata": {},
   "outputs": [],
   "source": [
    "custom_model_test = dr.CustomModelTest.create(cim.id, cimv.id, dataset_id = llm_dataset_test.id, network_egress_policy = dr.enums.NETWORK_EGRESS_POLICY.PUBLIC)"
   ]
  },
  {
   "cell_type": "code",
   "execution_count": 11,
   "metadata": {},
   "outputs": [
    {
     "data": {
      "text/plain": [
       "'succeeded'"
      ]
     },
     "execution_count": 11,
     "metadata": {},
     "output_type": "execute_result"
    }
   ],
   "source": [
    "custom_model_test.overall_status"
   ]
  },
  {
   "cell_type": "markdown",
   "metadata": {},
   "source": [
    "## register model"
   ]
  },
  {
   "cell_type": "code",
   "execution_count": 12,
   "metadata": {},
   "outputs": [],
   "source": [
    "\n",
    "## register the custom model version in the dr model registry \n",
    "registered_model_version = dr.RegisteredModelVersion.create_for_custom_model_version(\n",
    "    custom_model_version_id =  cimv.id, \n",
    "    name = \"Traced GPT4o\", \n",
    "    description = \"GPT4o traced via langsmith.  Additional arguments in the payload are required to enable tracing\", \n",
    "    registered_model_name = \"Traced GPT4o\", \n",
    "    registered_model_description = \"GPT4o traced via langsmith.  Additional arguments in the payload are required to enable tracing\"\n",
    ")"
   ]
  },
  {
   "cell_type": "markdown",
   "metadata": {},
   "source": [
    "Create a deployment that will be used in the playground"
   ]
  },
  {
   "cell_type": "code",
   "execution_count": 13,
   "metadata": {},
   "outputs": [
    {
     "data": {
      "text/plain": [
       "[PredictionEnvironment('612f829f8cfc3e5e9ca6b35d', 'Algorithmia', 'other', ''),\n",
       " PredictionEnvironment('613bb1cba2c312aa4c43d0ca', 'algosales.productionize.ai', 'other', 'algorithmia'),\n",
       " PredictionEnvironment('60904e2b109ff4d7bfe0be10', 'cola', 'other', 'None'),\n",
       " PredictionEnvironment('66a929580c3e174abc7542cb', 'DataRobot Serverless', 'datarobotServerless', ''),\n",
       " PredictionEnvironment('668401df486fcb136bf056d1', 'DataRobot Serverless Predictions', 'datarobotServerless', 'DataRobot Serverless Predictions'),\n",
       " PredictionEnvironment('61f160a0bfd3a9c426f7e60c', 'Default', 'aws', 'None'),\n",
       " PredictionEnvironment('6786861249482a46f808be18', 'Dev PLan', 'datarobotServerless', ''),\n",
       " PredictionEnvironment('65fb005b00e2ba108b8758d0', 'External Prediction Environment', 'other', 'Prediction environment for external LLM apps using DR Guardrails - created via drx'),\n",
       " PredictionEnvironment('65faf040496d866fe2a78081', 'External Prediction Environment', 'other', 'Prediction environment for external LLM apps using DR Guardrails - created via drx'),\n",
       " PredictionEnvironment('65faefcf663afa28e4a784d8', 'External Prediction Environment', 'other', 'Prediction environment for external LLM apps using DR Guardrails - created via drx'),\n",
       " PredictionEnvironment('65fae894161a073b69906896', 'External Prediction Environment', 'other', 'Prediction environment for external LLM apps using DR Guardrails - created via drx'),\n",
       " PredictionEnvironment('65fae725a277ac76264879a1', 'External Prediction Environment', 'other', 'Prediction environment for external LLM apps using DR Guardrails - created via drx'),\n",
       " PredictionEnvironment('65fae62e07d7341803cac567', 'External Prediction Environment', 'other', 'Prediction environment for external LLM apps using DR Guardrails - created via drx'),\n",
       " PredictionEnvironment('65f08b280c919297b297039c', 'External Prediction Environment', 'other', 'Prediction environment for external LLM apps using DR Guardrails - created via drx'),\n",
       " PredictionEnvironment('67535ed13f581d6f5102b2e4', 'Guarded RAG Prediction Environment [tim-guarded-rag-v2]-ea8c572', 'datarobotServerless', ''),\n",
       " PredictionEnvironment('67535863e7fc8890915f2c83', 'Guarded RAG Prediction Environment [tim-guarded-rag]-03f6a67', 'datarobotServerless', ''),\n",
       " PredictionEnvironment('5a61d7a0fbd723001a2f70d9', 'https://cfds-ccm-prod.orm.datarobot.com', 'datarobot', 'Prediction Environment wrapper around Prediction Server'),\n",
       " PredictionEnvironment('5f06612df1740600260aca72', 'https://datarobot-cfds.dynamic.orm.datarobot.com', 'datarobot', 'Prediction Environment wrapper around Prediction Server'),\n",
       " PredictionEnvironment('67521300fe4b98000d28270f', 'https://datarobot-support.orm.datarobot.com', 'datarobot', 'Prediction Environment wrapper around Prediction Server'),\n",
       " PredictionEnvironment('662fceee6ae7a4000c07928d', 'https://datarobot-supportbot.dynamic.orm.datarobot.com', 'datarobot', 'Prediction Environment wrapper around Prediction Server'),\n",
       " PredictionEnvironment('5dd7fa2274a35f003102f60d', 'https://mlops.dynamic.orm.datarobot.com', 'datarobot', 'Prediction Environment wrapper around Prediction Server'),\n",
       " PredictionEnvironment('6557aeb349feed00472ff374', 'https://prod-internal-genai-tests-dont-use.dynamic.orm.datarobot.com', 'datarobot', 'Prediction Environment wrapper around Prediction Server'),\n",
       " PredictionEnvironment('60df5cb0df5c957e00a1dae8', 'MGMG Agent Test Env', 'other', ''),\n",
       " PredictionEnvironment('678686b54c6b6ec9f3e243c4', 'Prod Lane', 'datarobotServerless', ''),\n",
       " PredictionEnvironment('647618c82dac62cc6bc23581', 'Snowflake Managed', 'snowflake', '')]"
      ]
     },
     "execution_count": 13,
     "metadata": {},
     "output_type": "execute_result"
    }
   ],
   "source": [
    "dr.PredictionEnvironment.list()"
   ]
  },
  {
   "cell_type": "code",
   "execution_count": 15,
   "metadata": {},
   "outputs": [],
   "source": [
    "prediction_server = [ pe for pe in dr.PredictionEnvironment.list() if pe.name == \"DataRobot Serverless\"].pop()"
   ]
  },
  {
   "cell_type": "code",
   "execution_count": 17,
   "metadata": {},
   "outputs": [],
   "source": [
    "client = dr.Client() \n",
    "payload = {\n",
    "    \"modelPackageId\":registered_model_version.id,\n",
    "    \"predictionEnvironmentId\": prediction_server.id,\n",
    "    \"label\":\"Traced GPT4o\",\n",
    "    \"importance\":\"LOW\"}\n",
    "dep_req = client.post(\"deployments/fromModelPackage\", data = payload)"
   ]
  },
  {
   "cell_type": "code",
   "execution_count": 20,
   "metadata": {},
   "outputs": [
    {
     "name": "stdout",
     "output_type": "stream",
     "text": [
      "{'id': '678694c9e33806cb8599a60f', 'label': 'Traced GPT4o', 'description': None, 'createdAt': '2025-01-14T16:46:07.434000Z', 'model': {'id': '6786929e32fb5850bccfa601', 'type': 'Langchain Traced Gpt4o', 'targetName': 'resultText', 'targetType': 'TextGeneration', 'projectId': None, 'projectName': None, 'unsupervisedMode': False, 'unstructuredModelKind': False, 'buildEnvironmentType': 'Python', 'deployedAt': '2025-01-14T16:46:07.503000Z', 'customModelImage': {'customModelId': '6786929a32fb5850bccfa5fe', 'customModelName': 'Langchain Traced Gpt4o', 'customModelVersionId': '6786929e32fb5850bccfa601', 'customModelVersionLabel': 'v1.0', 'executionEnvironmentId': '64d2ba178dd3f0b1fa2162f0', 'executionEnvironmentName': '[DataRobot] Python 3.11 GenAI', 'executionEnvironmentVersionId': '6717f8e0f7c696f62730c286', 'executionEnvironmentVersionLabel': 'v12'}, 'isDeprecated': False, 'prompt': None}, 'status': 'active', 'capabilities': {'supportsModelReplacement': True, 'supportsTargetDriftTracking': False, 'supportsFeatureDriftTracking': False, 'supportsPredictionWarning': False, 'supportsPredictionIntervals': False, 'supportsHumilityRules': False, 'supportsHumilityRulesDefaultCalculations': False, 'supportsHumilityRecommendedRules': False, 'supportsChallengerModels': False, 'supportsShapBasedPredictionExplanations': False, 'supportsSegmentedAnalysisDriftAndAccuracy': False, 'supportsBiasAndFairness': False, 'supportsFeatureTypeInfoValidation': True, 'supportsSecondaryDatasets': False, 'supportsRetraining': False, 'supportsScoringCodeDownload': False, 'supportsAutomaticActuals': False, 'supportsPortablePredictionServer': True}, 'permissions': ['CAN_MAKE_PREDICTIONS', 'CAN_VIEW', 'CAN_EDIT_DEPLOYMENT', 'CAN_DELETE_DEPLOYMENT', 'CAN_UPDATE_DEPLOYMENT_THRESHOLDS', 'CAN_SHARE', 'CAN_SHARE_DEPLOYMENT_OWNERSHIP', 'CAN_REPLACE_MODEL', 'CAN_APPROVE_REPLACEMENT_MODEL', 'CAN_SUBMIT_ACTUALS', 'CAN_ADD_CHALLENGERS', 'CAN_DELETE_CHALLENGERS', 'CAN_EDIT_CHALLENGERS', 'CAN_SCORE_CHALLENGERS', 'CAN_GENERATE_DOCUMENTATION', 'CAN_DOWNLOAD_DOCUMENTATION', 'CAN_BE_MANAGED_BY_MLOPS_AGENT'], 'predictionUsage': {'dailyRates': [0, 0, 0, 0, 0, 0, 0], 'lastTimestamp': None}, 'defaultPredictionServer': None, 'serviceHealth': {'status': 'unknown', 'startDate': '2025-01-13T17:00:00.000000Z', 'endDate': '2025-01-14T17:00:00.000000Z'}, 'modelHealth': {'status': 'unavailable', 'startDate': None, 'endDate': None, 'message': 'Data drift tracking is disabled for this deployment.'}, 'accuracyHealth': {'status': 'unavailable', 'startDate': None, 'endDate': None, 'message': 'Accuracy tracking is disabled for this deployment.'}, 'customMetricsHealth': {'status': 'unavailable', 'startDate': None, 'endDate': None, 'message': 'Custom metrics health is unavailable.'}, 'modelPackage': {'id': '678694815af6bc950ce24509', 'name': 'Traced GPT4o', 'registeredModelId': '678694805af6bc950ce24505'}, 'tags': [], 'predictionEnvironment': {'id': '66a929580c3e174abc7542cb', 'name': 'DataRobot Serverless', 'platform': 'datarobotServerless', 'plugin': None, 'supportedModelFormats': ['datarobot', 'customModel'], 'isManagedByManagementAgent': False}, 'modelPackageInitialDownload': {'timestamp': None}, 'approvalStatus': 'APPROVED', 'importance': 'LOW', 'governance': {'approvalStatus': 'APPROVED', 'hasOpenedChangeRequests': False}, 'owners': {'count': 1, 'preview': [{'id': '5cab28f323d2a148a6ce102c', 'firstName': 'Timothy', 'lastName': 'Whittaker', 'email': 'timothy.whittaker@datarobot.com'}]}, 'settings': {'predictionWarningEnabled': False, 'humbleAiEnabled': False, 'batchMonitoringEnabled': False}, 'scoringCodeInitialDownload': {'timestamp': None}, 'fairnessHealth': {'status': 'unavailable', 'messages': [\"Bias & Fairness in MLOps can't be configured for this problem type.\"], 'startDate': None, 'endDate': None, 'protectedFeaturesCount': 0, 'influentialFairnessMetric': None}, 'predictionsTimelinessHealth': {'status': 'unavailable', 'lastActivityTimestamp': None, 'messages': [], 'updatedAt': '2025-01-14T16:46:21.717000Z'}, 'actualsTimelinessHealth': {'status': 'unavailable', 'lastActivityTimestamp': None, 'messages': [], 'updatedAt': None}, 'hasError': False}\n"
     ]
    }
   ],
   "source": [
    "\n",
    "## wait for the deployment to create\n",
    "response = client.get(dep_req.headers[\"location\"].replace(\"https://app.datarobot.com/api/v2/\",\"\")).json()\n",
    "while response.get(\"status\") == \"INITIALIZED\":\n",
    "    response = client.get(dep_req.headers[\"location\"].replace(\"https://app.datarobot.com/api/v2/\",\"\")).json()\n",
    "response = client.get(dep_req.headers[\"location\"].replace(\"https://app.datarobot.com/api/v2/\",\"\")).json()\n",
    "deployment_id = response[\"id\"]\n",
    "print(response)"
   ]
  },
  {
   "cell_type": "code",
   "execution_count": 22,
   "metadata": {},
   "outputs": [],
   "source": [
    "deployment = dr.Deployment.get(deployment_id)"
   ]
  },
  {
   "cell_type": "markdown",
   "metadata": {},
   "source": [
    "## Check that it is working as expected"
   ]
  },
  {
   "cell_type": "code",
   "execution_count": 29,
   "metadata": {},
   "outputs": [
    {
     "data": {
      "text/plain": [
       "'datarobotServerless'"
      ]
     },
     "execution_count": 29,
     "metadata": {},
     "output_type": "execute_result"
    }
   ],
   "source": [
    "prediction_server.platform"
   ]
  },
  {
   "cell_type": "code",
   "execution_count": 35,
   "metadata": {},
   "outputs": [
    {
     "name": "stdout",
     "output_type": "stream",
     "text": [
      "{'data': [{'deploymentApprovalStatus': 'APPROVED',\n",
      "           'prediction': \"Sure, here's one for you:\\n\"\n",
      "                         '\\n'\n",
      "                         \"Why don't skeletons fight each other?\\n\"\n",
      "                         '\\n'\n",
      "                         \"They don't have the guts!\",\n",
      "           'predictionValues': [{'label': 'resultText',\n",
      "                                 'value': \"Sure, here's one for you:\\n\"\n",
      "                                          '\\n'\n",
      "                                          \"Why don't skeletons fight each \"\n",
      "                                          'other?\\n'\n",
      "                                          '\\n'\n",
      "                                          \"They don't have the guts!\"}],\n",
      "           'rowId': 0},\n",
      "          {'deploymentApprovalStatus': 'APPROVED',\n",
      "           'prediction': 'Sure thing! \"What\\'s up, Doc?\" is a classic '\n",
      "                         'catchphrase associated with Bugs Bunny, and \"Can We '\n",
      "                         'Rock?\" sounds like you\\'re ready to have some fun. '\n",
      "                         'How can I assist you today? Whether you want to '\n",
      "                         'chat, need information, or have a specific question, '\n",
      "                         \"I'm here to help!\",\n",
      "           'predictionValues': [{'label': 'resultText',\n",
      "                                 'value': 'Sure thing! \"What\\'s up, Doc?\" is a '\n",
      "                                          'classic catchphrase associated with '\n",
      "                                          'Bugs Bunny, and \"Can We Rock?\" '\n",
      "                                          \"sounds like you're ready to have \"\n",
      "                                          'some fun. How can I assist you '\n",
      "                                          'today? Whether you want to chat, '\n",
      "                                          'need information, or have a '\n",
      "                                          \"specific question, I'm here to \"\n",
      "                                          'help!'}],\n",
      "           'rowId': 1},\n",
      "          {'deploymentApprovalStatus': 'APPROVED',\n",
      "           'prediction': 'The Bolzano-Weierstrass theorem is a fundamental '\n",
      "                         'result in real analysis and topology. It states that '\n",
      "                         'every bounded sequence in \\\\(\\\\mathbb{R}^n\\\\) (the '\n",
      "                         'n-dimensional real coordinate space) has a '\n",
      "                         'convergent subsequence. This theorem is named after '\n",
      "                         'mathematicians Bernard Bolzano and Karl '\n",
      "                         'Weierstrass.\\n'\n",
      "                         '\\n'\n",
      "                         'To break it down:\\n'\n",
      "                         '\\n'\n",
      "                         '1. **Bounded Sequence**: A sequence \\\\((x_n)\\\\) in '\n",
      "                         '\\\\(\\\\mathbb{R}^n\\\\) is bounded if there exists a '\n",
      "                         'real number \\\\(M\\\\) such that the distance of each '\n",
      "                         'term \\\\(x_n\\\\) from the origin is less than \\\\(M\\\\). '\n",
      "                         'Mathematically, \\\\(\\\\|x_n\\\\| < M\\\\) for all '\n",
      "                         '\\\\(n\\\\).\\n'\n",
      "                         '\\n'\n",
      "                         '2. **Convergent Subsequence**: A subsequence '\n",
      "                         '\\\\((x_{n_k})\\\\) of the original sequence \\\\((x_n)\\\\) '\n",
      "                         'is convergent if there exists a point \\\\(L \\\\in '\n",
      "                         '\\\\mathbb{R}^n\\\\) such that \\\\(\\\\lim_{k \\\\to \\\\infty} '\n",
      "                         'x_{n_k} = L\\\\). This means the terms of the '\n",
      "                         'subsequence get arbitrarily close to \\\\(L\\\\) as '\n",
      "                         '\\\\(k\\\\) becomes large.\\n'\n",
      "                         '\\n'\n",
      "                         'The theorem is significant because it guarantees the '\n",
      "                         'existence of a convergent subsequence for any '\n",
      "                         'bounded sequence, ensuring that bounded sequences in '\n",
      "                         '\\\\(\\\\mathbb{R}^n\\\\) cannot \"escape\" to infinity '\n",
      "                         'without having some part that converges.\\n'\n",
      "                         '\\n'\n",
      "                         '**Proof Sketch**:\\n'\n",
      "                         '1. **One-dimensional case (\\\\(\\\\mathbb{R}\\\\))**: For '\n",
      "                         'a bounded sequence in \\\\(\\\\mathbb{R}\\\\), the '\n",
      "                         'interval containing the sequence is also bounded. By '\n",
      "                         'repeatedly bisecting this interval and choosing '\n",
      "                         'subintervals that contain infinitely many terms of '\n",
      "                         'the sequence, one can construct a convergent '\n",
      "                         'subsequence.\\n'\n",
      "                         '\\n'\n",
      "                         '2. **Higher dimensions (\\\\(\\\\mathbb{R}^n\\\\))**: The '\n",
      "                         'proof can be extended to higher dimensions using a '\n",
      "                         'similar approach. By considering each component of '\n",
      "                         'the sequence separately and applying the '\n",
      "                         'one-dimensional Bolzano-Weierstrass theorem '\n",
      "                         'iteratively, one can construct a convergent '\n",
      "                         'subsequence in \\\\(\\\\mathbb{R}^n\\\\).\\n'\n",
      "                         '\\n'\n",
      "                         'The Bolzano-Weierstrass theorem is a cornerstone in '\n",
      "                         'analysis and is used in various proofs and '\n",
      "                         'applications, including the Heine-Borel theorem, '\n",
      "                         'compactness arguments, and the study of function '\n",
      "                         'limits and continuity.',\n",
      "           'predictionValues': [{'label': 'resultText',\n",
      "                                 'value': 'The Bolzano-Weierstrass theorem is '\n",
      "                                          'a fundamental result in real '\n",
      "                                          'analysis and topology. It states '\n",
      "                                          'that every bounded sequence in '\n",
      "                                          '\\\\(\\\\mathbb{R}^n\\\\) (the '\n",
      "                                          'n-dimensional real coordinate '\n",
      "                                          'space) has a convergent '\n",
      "                                          'subsequence. This theorem is named '\n",
      "                                          'after mathematicians Bernard '\n",
      "                                          'Bolzano and Karl Weierstrass.\\n'\n",
      "                                          '\\n'\n",
      "                                          'To break it down:\\n'\n",
      "                                          '\\n'\n",
      "                                          '1. **Bounded Sequence**: A sequence '\n",
      "                                          '\\\\((x_n)\\\\) in \\\\(\\\\mathbb{R}^n\\\\) '\n",
      "                                          'is bounded if there exists a real '\n",
      "                                          'number \\\\(M\\\\) such that the '\n",
      "                                          'distance of each term \\\\(x_n\\\\) '\n",
      "                                          'from the origin is less than '\n",
      "                                          '\\\\(M\\\\). Mathematically, '\n",
      "                                          '\\\\(\\\\|x_n\\\\| < M\\\\) for all '\n",
      "                                          '\\\\(n\\\\).\\n'\n",
      "                                          '\\n'\n",
      "                                          '2. **Convergent Subsequence**: A '\n",
      "                                          'subsequence \\\\((x_{n_k})\\\\) of the '\n",
      "                                          'original sequence \\\\((x_n)\\\\) is '\n",
      "                                          'convergent if there exists a point '\n",
      "                                          '\\\\(L \\\\in \\\\mathbb{R}^n\\\\) such '\n",
      "                                          'that \\\\(\\\\lim_{k \\\\to \\\\infty} '\n",
      "                                          'x_{n_k} = L\\\\). This means the '\n",
      "                                          'terms of the subsequence get '\n",
      "                                          'arbitrarily close to \\\\(L\\\\) as '\n",
      "                                          '\\\\(k\\\\) becomes large.\\n'\n",
      "                                          '\\n'\n",
      "                                          'The theorem is significant because '\n",
      "                                          'it guarantees the existence of a '\n",
      "                                          'convergent subsequence for any '\n",
      "                                          'bounded sequence, ensuring that '\n",
      "                                          'bounded sequences in '\n",
      "                                          '\\\\(\\\\mathbb{R}^n\\\\) cannot \"escape\" '\n",
      "                                          'to infinity without having some '\n",
      "                                          'part that converges.\\n'\n",
      "                                          '\\n'\n",
      "                                          '**Proof Sketch**:\\n'\n",
      "                                          '1. **One-dimensional case '\n",
      "                                          '(\\\\(\\\\mathbb{R}\\\\))**: For a '\n",
      "                                          'bounded sequence in '\n",
      "                                          '\\\\(\\\\mathbb{R}\\\\), the interval '\n",
      "                                          'containing the sequence is also '\n",
      "                                          'bounded. By repeatedly bisecting '\n",
      "                                          'this interval and choosing '\n",
      "                                          'subintervals that contain '\n",
      "                                          'infinitely many terms of the '\n",
      "                                          'sequence, one can construct a '\n",
      "                                          'convergent subsequence.\\n'\n",
      "                                          '\\n'\n",
      "                                          '2. **Higher dimensions '\n",
      "                                          '(\\\\(\\\\mathbb{R}^n\\\\))**: The proof '\n",
      "                                          'can be extended to higher '\n",
      "                                          'dimensions using a similar '\n",
      "                                          'approach. By considering each '\n",
      "                                          'component of the sequence '\n",
      "                                          'separately and applying the '\n",
      "                                          'one-dimensional Bolzano-Weierstrass '\n",
      "                                          'theorem iteratively, one can '\n",
      "                                          'construct a convergent subsequence '\n",
      "                                          'in \\\\(\\\\mathbb{R}^n\\\\).\\n'\n",
      "                                          '\\n'\n",
      "                                          'The Bolzano-Weierstrass theorem is '\n",
      "                                          'a cornerstone in analysis and is '\n",
      "                                          'used in various proofs and '\n",
      "                                          'applications, including the '\n",
      "                                          'Heine-Borel theorem, compactness '\n",
      "                                          'arguments, and the study of '\n",
      "                                          'function limits and continuity.'}],\n",
      "           'rowId': 2}]}\n"
     ]
    }
   ],
   "source": [
    "import requests\n",
    "import os\n",
    "import json\n",
    "import datarobot as dr \n",
    "import pprint\n",
    "# deployment = dr.Deployment.get(\"673505fb8a477d1f2fbaed3b\")\n",
    "# URL = f'{deployment.prediction_environment[\"name\"]}/predApi/v1.0/deployments/{deployment.id}/predictions'\n",
    "if prediction_server.platform == \"datarobotServerless\":\n",
    "    URL = f\"https://app.datarobot.com/api/v2/deployments/{deployment.id}/predictions\"\n",
    "    datarobot_key = \"placeholder\"\n",
    "else:\n",
    "    URL =  f'{deployment.prediction_environment[\"name\"]}/predApi/v1.0/deployments/{deployment.id}/predictions'\n",
    "    datarobot_key = deployment.default_prediction_server.get(\"datarobot-key\")\n",
    "headers = {\n",
    "    'Content-Type': 'text/plain; charset=UTF-8',\n",
    "    'Authorization': 'Bearer {}'.format(os.environ[\"DATAROBOT_API_TOKEN\"]),\n",
    "    'DataRobot-Key': datarobot_key\n",
    "}\n",
    "query = \"what's up doc?\"\n",
    "response = requests.post( URL, headers = headers, data = data.to_csv(index = False))\n",
    "pprint.pprint(response.json())\n"
   ]
  },
  {
   "cell_type": "code",
   "execution_count": 36,
   "metadata": {},
   "outputs": [
    {
     "data": {
      "text/html": [
       "<div>\n",
       "<style scoped>\n",
       "    .dataframe tbody tr th:only-of-type {\n",
       "        vertical-align: middle;\n",
       "    }\n",
       "\n",
       "    .dataframe tbody tr th {\n",
       "        vertical-align: top;\n",
       "    }\n",
       "\n",
       "    .dataframe thead th {\n",
       "        text-align: right;\n",
       "    }\n",
       "</style>\n",
       "<table border=\"1\" class=\"dataframe\">\n",
       "  <thead>\n",
       "    <tr style=\"text-align: right;\">\n",
       "      <th></th>\n",
       "      <th>promptText</th>\n",
       "      <th>trace_prompt</th>\n",
       "      <th>LANGCHAIN_PROJECT</th>\n",
       "    </tr>\n",
       "  </thead>\n",
       "  <tbody>\n",
       "    <tr>\n",
       "      <th>0</th>\n",
       "      <td>tell me a joke</td>\n",
       "      <td>False</td>\n",
       "      <td>NaN</td>\n",
       "    </tr>\n",
       "    <tr>\n",
       "      <th>1</th>\n",
       "      <td>what's up doc?  can we rock</td>\n",
       "      <td>NaN</td>\n",
       "      <td>NaN</td>\n",
       "    </tr>\n",
       "    <tr>\n",
       "      <th>2</th>\n",
       "      <td>describe bolzano weierstrauss theorem</td>\n",
       "      <td>NaN</td>\n",
       "      <td>math help v4</td>\n",
       "    </tr>\n",
       "  </tbody>\n",
       "</table>\n",
       "</div>"
      ],
      "text/plain": [
       "                              promptText trace_prompt LANGCHAIN_PROJECT\n",
       "0                         tell me a joke        False               NaN\n",
       "1            what's up doc?  can we rock          NaN               NaN\n",
       "2  describe bolzano weierstrauss theorem          NaN      math help v4"
      ]
     },
     "execution_count": 36,
     "metadata": {},
     "output_type": "execute_result"
    }
   ],
   "source": [
    "data"
   ]
  },
  {
   "cell_type": "code",
   "execution_count": 34,
   "metadata": {},
   "outputs": [
    {
     "name": "stdout",
     "output_type": "stream",
     "text": [
      "{'data': [{'deploymentApprovalStatus': 'APPROVED',\n",
      "           'prediction': \"Sure, here's a joke for you:\\n\"\n",
      "                         '\\n'\n",
      "                         \"Why don't skeletons fight each other?\\n\"\n",
      "                         '\\n'\n",
      "                         \"They don't have the guts!\",\n",
      "           'predictionValues': [{'label': 'resultText',\n",
      "                                 'value': \"Sure, here's a joke for you:\\n\"\n",
      "                                          '\\n'\n",
      "                                          \"Why don't skeletons fight each \"\n",
      "                                          'other?\\n'\n",
      "                                          '\\n'\n",
      "                                          \"They don't have the guts!\"}],\n",
      "           'rowId': 0}]}\n"
     ]
    }
   ],
   "source": [
    "if prediction_server.platform == \"datarobotServerless\":\n",
    "    URL = f\"https://app.datarobot.com/api/v2/deployments/{deployment.id}/predictions\"\n",
    "    datarobot_key = \"placeholder\"\n",
    "else:\n",
    "    URL =  f'{deployment.prediction_environment[\"name\"]}/predApi/v1.0/deployments/{deployment.id}/predictions'\n",
    "    datarobot_key = deployment.default_prediction_server.get(\"datarobot-key\")\n",
    "headers = {\n",
    "    'Content-Type': 'application/json; charset=UTF-8',\n",
    "    'Authorization': 'Bearer {}'.format(os.environ[\"DATAROBOT_API_TOKEN\"]),\n",
    "    'DataRobot-Key': datarobot_key\n",
    "}\n",
    "query = \"what's up doc?\"\n",
    "response = requests.post( URL, headers = headers, \n",
    "                         data = json.dumps( [\n",
    "                             {\"promptText\": \"tell me a joke\", \"trace_prompt\": True, \"LANGCHAIN_PROJECT\": \"comedian\"}\n",
    "                             ]))\n",
    "pprint.pprint(response.json())\n"
   ]
  },
  {
   "cell_type": "markdown",
   "metadata": {},
   "source": [
    "## Lasty, \n",
    "\n",
    "This last piece will make our LLM available in playground.  Given the way we instrumented tracing in out custom.py file, all prompting done in playground with this llm will be traced and available in the default project for langsmith. "
   ]
  },
  {
   "cell_type": "code",
   "execution_count": 30,
   "metadata": {},
   "outputs": [],
   "source": [
    "custom_model_llm_validation = dr.genai.CustomModelLLMValidation.create(\n",
    "        prompt_column_name=\"promptText\",\n",
    "        target_column_name=\"resultText\",\n",
    "        deployment_id=deployment.id,\n",
    "        wait_for_completion=True, \n",
    "        name = deployment.__str__()\n",
    "    )\n",
    "\n",
    "assert custom_model_llm_validation.validation_status == \"PASSED\""
   ]
  }
 ],
 "metadata": {
  "kernelspec": {
   "display_name": "att-chatbot",
   "language": "python",
   "name": "python3"
  },
  "language_info": {
   "codemirror_mode": {
    "name": "ipython",
    "version": 3
   },
   "file_extension": ".py",
   "mimetype": "text/x-python",
   "name": "python",
   "nbconvert_exporter": "python",
   "pygments_lexer": "ipython3",
   "version": "3.11.8"
  }
 },
 "nbformat": 4,
 "nbformat_minor": 2
}
